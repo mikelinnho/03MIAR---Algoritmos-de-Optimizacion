{
  "nbformat": 4,
  "nbformat_minor": 0,
  "metadata": {
    "colab": {
      "provenance": []
    },
    "kernelspec": {
      "name": "python3",
      "display_name": "Python 3"
    }
  },
  "cells": [
    {
      "cell_type": "markdown",
      "source": [
        "#**AG3- Actividad Guiada 3**\n",
        "\n",
        "Nombre: Mikel Pérez Frutos <br>\n",
        "Link: https://colab.research.google.com/drive/1iYNWQ4q1SBSHSyKcJwLq65znEXVzKHvx?usp=sharing <br>\n",
        "Github: https://github.com/mikelinnho/03MIAR---Algoritmos-de-Optimizacion\n"
      ],
      "metadata": {
        "id": "Qun8KeTlY5zy"
      }
    },
    {
      "cell_type": "markdown",
      "source": [
        "#**Librerias**\n",
        "Carga de las liberías:"
      ],
      "metadata": {
        "id": "m-gbxt9BFfdN"
      }
    },
    {
      "cell_type": "code",
      "metadata": {
        "id": "qP-Y3Gkfc4vn",
        "colab": {
          "base_uri": "https://localhost:8080/"
        },
        "outputId": "3c517063-157d-459f-9f5e-3faf8ccbaec3"
      },
      "source": [
        "!pip install requests #Hacer llamadas http a paginas de la red\n",
        "!pip install tsplib95 #Módulo para las instancias del problema del TSP"
      ],
      "execution_count": null,
      "outputs": [
        {
          "output_type": "stream",
          "name": "stdout",
          "text": [
            "Looking in indexes: https://pypi.org/simple, https://us-python.pkg.dev/colab-wheels/public/simple/\n",
            "Requirement already satisfied: requests in /usr/local/lib/python3.8/dist-packages (2.25.1)\n",
            "Requirement already satisfied: idna<3,>=2.5 in /usr/local/lib/python3.8/dist-packages (from requests) (2.10)\n",
            "Requirement already satisfied: chardet<5,>=3.0.2 in /usr/local/lib/python3.8/dist-packages (from requests) (4.0.0)\n",
            "Requirement already satisfied: certifi>=2017.4.17 in /usr/local/lib/python3.8/dist-packages (from requests) (2022.12.7)\n",
            "Requirement already satisfied: urllib3<1.27,>=1.21.1 in /usr/local/lib/python3.8/dist-packages (from requests) (1.24.3)\n",
            "Looking in indexes: https://pypi.org/simple, https://us-python.pkg.dev/colab-wheels/public/simple/\n",
            "Requirement already satisfied: tsplib95 in /usr/local/lib/python3.8/dist-packages (0.7.1)\n",
            "Requirement already satisfied: tabulate~=0.8.7 in /usr/local/lib/python3.8/dist-packages (from tsplib95) (0.8.10)\n",
            "Requirement already satisfied: networkx~=2.1 in /usr/local/lib/python3.8/dist-packages (from tsplib95) (2.8.8)\n",
            "Requirement already satisfied: Deprecated~=1.2.9 in /usr/local/lib/python3.8/dist-packages (from tsplib95) (1.2.13)\n",
            "Requirement already satisfied: Click>=6.0 in /usr/local/lib/python3.8/dist-packages (from tsplib95) (7.1.2)\n",
            "Requirement already satisfied: wrapt<2,>=1.10 in /usr/local/lib/python3.8/dist-packages (from Deprecated~=1.2.9->tsplib95) (1.14.1)\n"
          ]
        }
      ]
    },
    {
      "cell_type": "markdown",
      "source": [
        "#**Carga de datos**\n",
        "Carga de los datos del problema:"
      ],
      "metadata": {
        "id": "nHRiJhTnFmuV"
      }
    },
    {
      "cell_type": "code",
      "metadata": {
        "id": "mnA47nhtdKOc",
        "colab": {
          "base_uri": "https://localhost:8080/"
        },
        "outputId": "e8cde2dd-0972-49d7-9d69-c599b02d94d0"
      },
      "source": [
        "import urllib.request #Hacer llamadas http a paginas de la red\n",
        "import tsplib95 #Módulo para las instancias del problema del TSP\n",
        "import math #Módulo de funciones matematicas. Se usa para exp\n",
        "import random #Para generar valores aleatorios\n",
        "\n",
        "#http://elib.zib.de/pub/mp-testdata/tsp/tsplib/\n",
        "#Documentacion : \n",
        "  # http://comopt.ifi.uni-heidelberg.de/software/TSPLIB95/tsp95.pdf\n",
        "  # https://tsplib95.readthedocs.io/en/stable/pages/usage.html (Todas las funciones)\n",
        "  # https://tsplib95.readthedocs.io/en/v0.6.1/modules.html\n",
        "  # https://pypi.org/project/tsplib95/\n",
        "\n",
        "#Descargamos el fichero de datos(Matriz de distancias)\n",
        "file = \"swiss42.tsp\" ; \n",
        "urllib.request.urlretrieve(\"http://comopt.ifi.uni-heidelberg.de/software/TSPLIB95/tsp/swiss42.tsp.gz\", file + '.gz')\n",
        "!gzip -d swiss42.tsp.gz #Descomprimir el fichero de datos \n",
        "\n",
        "#Coordendas 51-city problem (Christofides/Eilon)\n",
        "#file = \"eil51.tsp\" ; urllib.request.urlretrieve(\"http://comopt.ifi.uni-heidelberg.de/software/TSPLIB95/tsp/eil51.tsp.gz\", file)\n",
        "\n",
        "#Coordenadas - 48 capitals of the US (Padberg/Rinaldi)\n",
        "#file = \"att48.tsp\" ; urllib.request.urlretrieve(\"http://comopt.ifi.uni-heidelberg.de/software/TSPLIB95/tsp/att48.tsp.gz\", file)"
      ],
      "execution_count": null,
      "outputs": [
        {
          "output_type": "stream",
          "name": "stdout",
          "text": [
            "gzip: swiss42.tsp already exists; do you wish to overwrite (y or n)? y\n"
          ]
        }
      ]
    },
    {
      "cell_type": "markdown",
      "source": [
        "Carga de datos en las variables del problema:"
      ],
      "metadata": {
        "id": "x80OM3iMXjb7"
      }
    },
    {
      "cell_type": "code",
      "metadata": {
        "id": "RIXYkDWcfmwd"
      },
      "source": [
        "problema = tsplib95.load(file)\n",
        "nodos = list(problema.get_nodes()) #Nodos\n",
        "aristas = list(problema.get_edges()) #Aristas"
      ],
      "execution_count": null,
      "outputs": []
    },
    {
      "cell_type": "markdown",
      "source": [
        "Algunas funciones del objeto \"problema\":"
      ],
      "metadata": {
        "id": "LXun-ozbZE_Z"
      }
    },
    {
      "cell_type": "code",
      "metadata": {
        "id": "a7bTofSnn_Jt",
        "colab": {
          "base_uri": "https://localhost:8080/"
        },
        "outputId": "ad41aba3-78c4-46c1-fa46-fa9068954666"
      },
      "source": [
        "problema.get_weight(0, 1)"
      ],
      "execution_count": null,
      "outputs": [
        {
          "output_type": "execute_result",
          "data": {
            "text/plain": [
              "15"
            ]
          },
          "metadata": {},
          "execution_count": 8
        }
      ]
    },
    {
      "cell_type": "markdown",
      "source": [
        "#**Funciones básicas**\n"
      ],
      "metadata": {
        "id": "BpwtaRQIFYvO"
      }
    },
    {
      "cell_type": "markdown",
      "source": [
        "Algunas funciones generales:"
      ],
      "metadata": {
        "id": "y-h0Q3QYanDN"
      }
    },
    {
      "cell_type": "code",
      "metadata": {
        "id": "tzrkaBS3gmmz"
      },
      "source": [
        "def crear_solucion(nodos): \n",
        "  #Definición: Se genera una solucion aleatoria con comienzo en en el nodo 0\n",
        "  #Parámetros:\n",
        "  # - nodos conjunto de elementos.\n",
        "  #Return: Solución comenzando en el nodo 0\n",
        "\n",
        "  solucion = [nodos[0]]\n",
        "  for n in nodos[1:]:\n",
        "    solucion = solucion + [random.choice(list(set(nodos) - set({nodos[0]}) - set(solucion)))]\n",
        "  return solucion \n",
        "\n",
        "def distancia(a, b, problema):\n",
        "  #Definición: Devuelve la distancia entre dos nodos\n",
        "  #Parámetros:\n",
        "  # - a y b son identificadores de nodos.\n",
        "  # - problema es la matriz de distancias.\n",
        "  #Return: Distancia entre dos nodos\n",
        "\n",
        "  return problema.get_weight(a,b)\n",
        "\n",
        "def distancia_total(solucion, problema):\n",
        "  #Definición: Devuelve la distancia total de una trayectoria/solucion\n",
        "  #Parámetros:\n",
        "  # - solucion es la trayectoria.\n",
        "  # - problema es la matriz de distancias.\n",
        "  #Return: Distancia total de una trayectoria\n",
        "\n",
        "  distancia_total = 0\n",
        "  for i in range(len(solucion)-1):\n",
        "    distancia_total += distancia(solucion[i], solucion[i+1], problema)\n",
        "  return distancia_total + distancia(solucion[len(solucion)-1], solucion[0], problema)"
      ],
      "execution_count": null,
      "outputs": []
    },
    {
      "cell_type": "markdown",
      "source": [
        "#**Búsqueda aleatoria**\n",
        "**Definición**: Es un proceso por el que se van generando soluciones aleatorias en cada iteración y\n",
        "se devuelve la mejor. "
      ],
      "metadata": {
        "id": "zfwRoUPDYVTr"
      }
    },
    {
      "cell_type": "code",
      "source": [
        "###################################\n",
        "#       Búsqueda aleatoria        #\n",
        "###################################\n",
        "def busqueda_aleatoria(problema, N):\n",
        "  #Definición: Calcula la menor distancia para una trayectoria.\n",
        "  #Parámetros:\n",
        "  # - problema es la matriz de distancias.\n",
        "  # - N es el numero de iteraciones\n",
        "  #Return: Resultado de la búsqueda aleatoria\n",
        "\n",
        "  nodos = list(problema.get_nodes())\n",
        "  mejorSolucion = []\n",
        "  mejorDistancia = float('inf') #Inicializamos con un valor alto\n",
        "  \n",
        "  for i in range(N): #Criterio de parada: repetir N veces pero podemos incluir otros\n",
        "    solucion = crear_solucion(nodos) #Genera una solucion aleatoria\n",
        "    distancia = distancia_total(solucion, problema) #Calcula el valor objetivo(distancia total)  \n",
        "    if distancia < mejorDistancia: #Compara con la mejor obtenida hasta ahora\n",
        "      mejorSolucion = solucion\n",
        "      mejorDistancia = distancia\n",
        "      \n",
        "  print(\"Mejor solución: \", mejorSolucion) \n",
        "  print(\"Distancia: \", mejorDistancia) \n",
        "  return mejorSolucion  "
      ],
      "metadata": {
        "id": "U7FEJ5OHG2vl"
      },
      "execution_count": null,
      "outputs": []
    },
    {
      "cell_type": "markdown",
      "source": [
        "Buúsqueda aleatoria con 5000 iteraciones:"
      ],
      "metadata": {
        "id": "i1JQu_1jg5Aw"
      }
    },
    {
      "cell_type": "code",
      "source": [
        "solucion = busqueda_aleatoria(problema, 5000)    "
      ],
      "metadata": {
        "colab": {
          "base_uri": "https://localhost:8080/"
        },
        "id": "0T5NT6uXg3vM",
        "outputId": "17d4dfa2-72e0-45fa-a7d0-aeecc01c9a15"
      },
      "execution_count": null,
      "outputs": [
        {
          "output_type": "stream",
          "name": "stdout",
          "text": [
            "Mejor solución:  [0, 23, 25, 40, 41, 8, 38, 3, 29, 28, 4, 15, 17, 36, 7, 12, 11, 19, 6, 37, 35, 13, 27, 5, 26, 2, 1, 31, 20, 30, 21, 14, 10, 18, 24, 34, 33, 39, 22, 32, 9, 16]\n",
            "Distancia:  3790\n"
          ]
        }
      ]
    },
    {
      "cell_type": "markdown",
      "source": [
        "#**Búsqueda local**"
      ],
      "metadata": {
        "id": "gxyEjqm8YZIk"
      }
    },
    {
      "cell_type": "code",
      "source": [
        "###################################\n",
        "#         Búsqueda local          #\n",
        "###################################\n",
        "def genera_vecina(solucion, problema):\n",
        "  #Definición: Generador de soluciones vecinas: 2-opt (intercambiar 2 nodos) Si hay N nodos se generan (N-1)x(N-2)/2 soluciones\n",
        "  #Parámetros:\n",
        "  # - problema es la matriz de distancias.\n",
        "  # - N es el numero de iteraciones\n",
        "  #Return: Solución vecina\n",
        "\n",
        "  mejorSolucion = []\n",
        "  mejorDistancia = float('inf') #Inicializamos con un valor alto\n",
        "\n",
        "  for i in range(1, len(solucion)-1): #Recorremos todos los nodos en bucle doble para evaluar todos los intercambios 2-opt\n",
        "    for j in range(i+1, len(solucion)):\n",
        "      #Se genera una nueva solución intercambiando los dos nodos i,j:\n",
        "      #Usamos el operador + que para listas en python las concatena): ej.: [1,2] + [3] = [1,2,3]\n",
        "      vecina = solucion[:i] + [solucion[j]] + solucion[i+1:j] + [solucion[i]] + solucion[j+1:]   \n",
        "\n",
        "      #Se evalua la nueva solución:\n",
        "      distancia_vecina = distancia_total(vecina, problema)         \n",
        "\n",
        "      #Para guardarla si mejora las anteriores\n",
        "      if distancia_vecina <= mejorDistancia:\n",
        "        mejorDistancia = distancia_vecina\n",
        "        mejorSolucion = vecina\n",
        "\n",
        "  return mejorSolucion\n",
        "\n",
        "def busqueda_local(problema, nodos):\n",
        "  #Definición: Calcula la menor distancia para una trayectoria.\n",
        "  #Parámetros:\n",
        "  # - problema es la matriz de distancias.\n",
        "  # - nodos conjunto de elementos.\n",
        "  #Return: Resultado de la búsqueda aleatoria\n",
        "  mejor_solucion = []\n",
        "  \n",
        "  #Generar una solucion inicial de referencia(aleatoria):\n",
        "  solucion_referencia = crear_solucion(nodos)\n",
        "  mejor_distancia = distancia_total(solucion_referencia, problema)\n",
        "  iteracion = 0 #Contador para saber las iteraciones que hacemos\n",
        "\n",
        "  while(1):\n",
        "    #Incrementamos el contador:\n",
        "    iteracion +=1         \n",
        "\n",
        "    #Obtenemos la mejor vecina:\n",
        "    vecina = genera_vecina(solucion_referencia, problema)\n",
        "\n",
        "    #Evaluamos la vecina para ver si mejoramos respecto a lo encontrado hasta el momento:\n",
        "    distancia_vecina = distancia_total(vecina, problema)\n",
        " \n",
        "    #Si no mejoramos hay que terminar. Hemos llegado a un minimo local(según nuestro operador de vencindad 2-opt)\n",
        "    if distancia_vecina < mejor_distancia:\n",
        "      mejor_solucion = vecina #Guarda la mejor solución encontrada\n",
        "      mejor_distancia = distancia_vecina #Guarda la mejor distancia encontrada\n",
        "    else:\n",
        "      print(\"En la iteracion\", iteracion, \"la mejor solución encontrada es:\" , mejor_solucion) \n",
        "      print(\"Distancia:\" , mejor_distancia) \n",
        "      return mejor_solucion\n",
        "      \n",
        "    solucion_referencia = vecina"
      ],
      "metadata": {
        "id": "sOo-N3yIX7bp"
      },
      "execution_count": null,
      "outputs": []
    },
    {
      "cell_type": "markdown",
      "source": [
        "Generando soluciones vecinas:"
      ],
      "metadata": {
        "id": "_TV-7M6kU5lz"
      }
    },
    {
      "cell_type": "code",
      "source": [
        "print(\"Distancia solución inicial:\" , distancia_total(solucion, problema))\n",
        "nueva_solucion = genera_vecina(solucion, problema)\n",
        "print(\"Distancia mejor solución local:\", distancia_total(nueva_solucion, problema))"
      ],
      "metadata": {
        "colab": {
          "base_uri": "https://localhost:8080/"
        },
        "id": "x8AjAeL1U9m8",
        "outputId": "fbb45514-ad6d-48a1-e669-a9aeff730973"
      },
      "execution_count": null,
      "outputs": [
        {
          "output_type": "stream",
          "name": "stdout",
          "text": [
            "Distancia solución inicial: 3790\n",
            "Distancia mejor solución local: 3358\n"
          ]
        }
      ]
    },
    {
      "cell_type": "markdown",
      "source": [
        "Y con una búsqueda local:"
      ],
      "metadata": {
        "id": "8mG2-bn4ZjD9"
      }
    },
    {
      "cell_type": "code",
      "source": [
        "sol = busqueda_local(problema, nodos)"
      ],
      "metadata": {
        "colab": {
          "base_uri": "https://localhost:8080/"
        },
        "id": "2DKvldWcYOU9",
        "outputId": "970ca251-b904-4056-ae85-a51f4eb5b76d"
      },
      "execution_count": null,
      "outputs": [
        {
          "output_type": "stream",
          "name": "stdout",
          "text": [
            "En la iteracion 33 la mejor solución encontrada es: [0, 38, 22, 39, 9, 23, 41, 26, 5, 13, 19, 32, 34, 33, 20, 35, 36, 31, 1, 6, 7, 17, 37, 15, 16, 14, 21, 40, 24, 30, 28, 2, 27, 3, 4, 29, 8, 10, 25, 11, 12, 18]\n",
            "Distancia: 1922\n"
          ]
        }
      ]
    },
    {
      "cell_type": "markdown",
      "source": [
        "#**Recocido simulado**\n",
        "\n",
        "\n"
      ],
      "metadata": {
        "id": "iaHHKQeeYiDl"
      }
    },
    {
      "cell_type": "code",
      "source": [
        "###################################\n",
        "#      Simulated annealing        #\n",
        "###################################\n",
        "def genera_vecina_aleatorio(solucion):\n",
        "  #Definición: Generador de soluciones vecinas\n",
        "  #Parámetros:\n",
        "  # - solucion es la trayectoria.\n",
        "  #Return: Solución vecina\n",
        "\n",
        "  #Se eligen dos nodos aleatoriamente:\n",
        "  i,j = sorted(random.sample(range(1,len(solucion)) , 2))\n",
        "  \n",
        "  #Devuelve una nueva solución pero intercambiando los dos nodos elegidos al azar:\n",
        "  return solucion[:i] + [solucion[j]] + solucion[i+1:j] + [solucion[i]] + solucion[j+1:]\n",
        "  \n",
        "def probabilidad(T, d):\n",
        "  #Definición: Funcion de probabilidad para aceptar peores soluciones\n",
        "  #Parámetros:\n",
        "  # - T es la temperatura\n",
        "  # - d es la distancia\n",
        "  #Return: True si se acepta, False si no\n",
        "\n",
        "  if random.random() < math.exp(-1*d / T):\n",
        "    return True\n",
        "  else:\n",
        "    return False\n",
        "\n",
        "def bajar_temperatura(T):\n",
        "  #Definición: Funcion de descenso de temperatura\n",
        "  #Parámetros:\n",
        "  # - T es la temperatura\n",
        "  #Return: temperatura multiplicada por 0,99\n",
        "\n",
        "  return T*0.99\n",
        "\n",
        "def recocido_simulado(problema, T, nodos):\n",
        "  #Definición: Funcion de aplica simulated annealing para calcular la trayectoria\n",
        "  #Parámetros:\n",
        "  # - T es la temperatura\n",
        "  # - problema es la matriz de distancias.\n",
        "  # - nodos conjunto de elementos.\n",
        "  #Return: Mejor trayectoria\n",
        "  \n",
        "  solucion_referencia = crear_solucion(nodos)\n",
        "  distancia_referencia = distancia_total(solucion_referencia, problema)\n",
        "  mejor_solucion = []  \n",
        "  mejor_distancia = 10e100\n",
        "\n",
        "  while T > .0001:\n",
        "    #Genera una solución vecina:\n",
        "    vecina = genera_vecina_aleatorio(solucion_referencia)\n",
        "    \n",
        "    #Calcula su valor(distancia):\n",
        "    distancia_vecina = distancia_total(vecina, problema)\n",
        "      \n",
        "    #Si es la mejor solución de todas se guarda:\n",
        "    if distancia_vecina < mejor_distancia:\n",
        "        mejor_solucion = vecina\n",
        "        mejor_distancia = distancia_vecina\n",
        "    \n",
        "    #Si la nueva vecina es mejor se cambia  \n",
        "    #Si es peor se cambia según una probabilidad que depende de T y delta(distancia_referencia - distancia_vecina)\n",
        "    if distancia_vecina < distancia_referencia or probabilidad(T, abs(distancia_referencia - distancia_vecina)):\n",
        "      solucion_referencia = vecina\n",
        "      distancia_referencia = distancia_vecina\n",
        "\n",
        "    #Bajamos la temperatura:\n",
        "    T = bajar_temperatura(T)\n",
        " \n",
        "  print(\"La mejor solución encontrada es\", mejor_solucion)\n",
        "  print(\"Con una distancia total de\", mejor_distancia)\n",
        "  return mejor_solucion"
      ],
      "metadata": {
        "id": "pd1kIWnoYbu8"
      },
      "execution_count": null,
      "outputs": []
    },
    {
      "cell_type": "markdown",
      "source": [
        "La solución queda de la siguiente forma:"
      ],
      "metadata": {
        "id": "B6lHo6Q5-uyq"
      }
    },
    {
      "cell_type": "code",
      "source": [
        "sol  = recocido_simulado(problema, 10000000, nodos)"
      ],
      "metadata": {
        "colab": {
          "base_uri": "https://localhost:8080/"
        },
        "id": "G0-O20XqYmk-",
        "outputId": "9ae120a2-c1fd-4fe7-994d-12efe5361fea"
      },
      "execution_count": null,
      "outputs": [
        {
          "output_type": "stream",
          "name": "stdout",
          "text": [
            "La mejor solución encontrada es [0, 3, 28, 30, 38, 22, 24, 40, 21, 8, 26, 16, 37, 36, 35, 17, 31, 32, 27, 41, 23, 9, 39, 29, 2, 4, 5, 19, 13, 18, 12, 11, 25, 10, 34, 33, 20, 7, 1, 6, 15, 14]\n",
            "Con una distancia total de 2015\n"
          ]
        }
      ]
    },
    {
      "cell_type": "markdown",
      "source": [
        "## **Practica individual**\n",
        "Tareas opcionales para mejorar nota:"
      ],
      "metadata": {
        "id": "diVwawJb-tsc"
      }
    },
    {
      "cell_type": "markdown",
      "source": [
        "##**Búsqueda local con entornos variables**\n",
        "*¿Se puede mejorar con otros operadores de vecindad variables?* <br>\n",
        "\n",
        "Se va a tratar de modificar cómo se generan nuevas soluciones, para evitar los mínimos locales. Para ello, sobre el algoritmo generador de vecindad:\n",
        "\n",
        "* Se va a invertir la lista generada.\n",
        "* Se va a ordenar la lista generada creciente y decrecientemente.\n",
        "* Se va a aleatorizar la lista generada.\n",
        "\n",
        "Para ordenar la lista, vamos a implementar el algoritmo de ordenación MergeSort."
      ],
      "metadata": {
        "id": "k3F-dBY1_ApL"
      }
    },
    {
      "cell_type": "code",
      "source": [
        "def merge_sort(arr):\n",
        "  if len(arr) == 1: return arr\n",
        "  mid = len(arr) // 2\n",
        "  return marge(merge_sort(arr[:mid]), merge_sort(arr[mid:]))\n",
        "\n",
        "def marge(left, right):\n",
        "  result = []\n",
        "  while len(left) > 0 and len(right) > 0:\n",
        "    if left[0] <= right[0]:\n",
        "      result.append(left.pop(0))\n",
        "    else:\n",
        "      result.append(right.pop(0))\n",
        "\n",
        "  result += left\n",
        "  result += right\n",
        "  return result\n",
        "\n",
        "def genera_vecina_new(solucion, problema):\n",
        "  #Definición: Generador de soluciones vecinas: 2-opt (intercambiar 2 nodos) Si hay N nodos se generan (N-1)x(N-2)/2 soluciones\n",
        "  #Parámetros:\n",
        "  # - problema es la matriz de distancias.\n",
        "  # - N es el numero de iteraciones\n",
        "  #Return: Solución vecina\n",
        "\n",
        "  mejor_solucion = []\n",
        "  mejor_distancia = 10e100\n",
        "\n",
        "  for i in range(1, len(solucion)-1): #Recorremos todos los nodos en bucle doble para evaluar todos los intercambios 2-opt\n",
        "    for j in range(i+1, len(solucion)):\n",
        "      #Se genera una nueva solución intercambiando los dos nodos i,j:\n",
        "      #Usamos el operador + que para listas en python las concatena) : ej.: [1,2] + [3] = [1,2,3]\n",
        "      vecina = solucion[:i] + [solucion[j]] + solucion[i+1:j] + [solucion[i]] + solucion[j+1:]\n",
        "\n",
        "      #Modificaciones sobre el generador de vecindad:\n",
        "      vecina_inv = list(reversed(vecina.copy()))\n",
        "      vecina_ord = (merge_sort(vecina.copy()))\n",
        "      vecina_ord_inv = list(reversed(vecina_ord.copy()))\n",
        "      vecina_random = random.sample(vecina.copy(), len(vecina))\n",
        "\n",
        "      #Se evalua la nueva solución:\n",
        "      distancia_vecina = distancia_total(vecina, problema)\n",
        "      distancia_vecina_inv = distancia_total(vecina_inv, problema)\n",
        "      distancia_vecina_ord = distancia_total(vecina_ord, problema)\n",
        "      distancia_vecina_ord_inv = distancia_total(vecina_ord_inv, problema)\n",
        "      distancia_vecina_random = distancia_total(vecina_random, problema)\n",
        "\n",
        "      #Guardar la mejor solución entre todas:\n",
        "      if distancia_vecina <= mejor_distancia:\n",
        "        mejor_distancia = distancia_vecina\n",
        "        mejor_solucion = vecina\n",
        "      if distancia_vecina_inv <= mejor_distancia:\n",
        "        mejor_distancia = distancia_vecina_inv\n",
        "        mejor_solucion = vecina_inv\n",
        "      if distancia_vecina_ord <= mejor_distancia:\n",
        "        mejor_distancia = distancia_vecina_ord\n",
        "        mejor_solucion = vecina_ord\n",
        "      if distancia_vecina_ord_inv <= mejor_distancia:\n",
        "        mejor_distancia = distancia_vecina_ord_inv\n",
        "        mejor_solucion = vecina_ord_inv\n",
        "      if distancia_vecina_random <= mejor_distancia:\n",
        "        mejor_distancia = distancia_vecina_random\n",
        "        mejor_solucion = vecina_random\n",
        "\n",
        "  return mejor_solucion\n",
        "\n",
        "def busqueda_local(problema, nodos):\n",
        "  #Definición: Calcula la menor distancia para una trayectoria.\n",
        "  #Parámetros:\n",
        "  # - problema es la matriz de distancias.\n",
        "  # - nodos conjunto de elementos.\n",
        "  #Return: Resultado de la búsqueda aleatoria\n",
        "  mejor_solucion = []\n",
        "  \n",
        "  #Generar una solucion inicial de referencia(aleatoria):\n",
        "  solucion_referencia = crear_solucion(nodos)\n",
        "  mejor_distancia = distancia_total(solucion_referencia, problema)\n",
        "  iteracion = 0 #Contador para saber las iteraciones que hacemos\n",
        "\n",
        "  while(1):\n",
        "    #Incrementamos el contador:\n",
        "    iteracion +=1         \n",
        "\n",
        "    #Obtenemos la mejor vecina:\n",
        "    vecina = genera_vecina_new(solucion_referencia, problema)\n",
        "\n",
        "    #Evaluamos la vecina para ver si mejoramos respecto a lo encontrado hasta el momento:\n",
        "    distancia_vecina = distancia_total(vecina, problema)\n",
        " \n",
        "    #Si no mejoramos hay que terminar. Hemos llegado a un minimo local(según nuestro operador de vencindad 2-opt)\n",
        "    if distancia_vecina < mejor_distancia:\n",
        "      mejor_solucion = vecina #Guarda la mejor solución encontrada\n",
        "      mejor_distancia = distancia_vecina #Guarda la mejor distancia encontrada\n",
        "    else:\n",
        "      print(\"En la iteracion\", iteracion, \"la mejor solución encontrada es:\" , mejor_solucion) \n",
        "      print(\"Distancia:\" , mejor_distancia) \n",
        "      return mejor_solucion\n",
        "      \n",
        "    solucion_referencia = vecina"
      ],
      "metadata": {
        "id": "woxwE1W6AOOC"
      },
      "execution_count": null,
      "outputs": []
    },
    {
      "cell_type": "code",
      "source": [
        "print(\"Distancia solución inicial:\" , distancia_total(solucion, problema))\n",
        "nueva_solucion = genera_vecina_new(solucion, problema)\n",
        "print(\"Distancia mejor solución local:\", distancia_total(nueva_solucion, problema))"
      ],
      "metadata": {
        "colab": {
          "base_uri": "https://localhost:8080/"
        },
        "id": "9hMVMV-nDdRS",
        "outputId": "095d0f0e-ac71-4a65-e1c2-7fe090967357"
      },
      "execution_count": null,
      "outputs": [
        {
          "output_type": "stream",
          "name": "stdout",
          "text": [
            "Distancia solución inicial: 3790\n",
            "Distancia mejor solución local: 2834\n"
          ]
        }
      ]
    },
    {
      "cell_type": "markdown",
      "source": [
        "Por tanto, la búsqueda local quedaría:"
      ],
      "metadata": {
        "id": "GK0MW-QZXLkQ"
      }
    },
    {
      "cell_type": "code",
      "source": [
        "sol = busqueda_local(problema, nodos)"
      ],
      "metadata": {
        "colab": {
          "base_uri": "https://localhost:8080/"
        },
        "id": "_2F41GweXPNa",
        "outputId": "f8ede829-0823-4370-bc83-5e3cf14fb6f7"
      },
      "execution_count": null,
      "outputs": [
        {
          "output_type": "stream",
          "name": "stdout",
          "text": [
            "En la iteracion 29 la mejor solución encontrada es: [21, 39, 2, 3, 4, 6, 5, 26, 18, 10, 25, 11, 12, 13, 19, 14, 16, 15, 37, 0, 30, 38, 22, 9, 23, 41, 8, 29, 28, 27, 32, 34, 33, 20, 31, 35, 36, 17, 7, 1, 40, 24]\n",
            "Distancia: 1716\n"
          ]
        }
      ]
    },
    {
      "cell_type": "markdown",
      "source": [
        "##**Recocido simulado**\n",
        "*¿Se puede mejorar con otra elección no tan aleatoria (función genera_vecina_aleatorio())?*\n",
        "\n",
        "Para mejorar el resultado del algoritmo de \"Recocido Simulado\", se han aplicado las modificaciones presentadas en el siguiente paper: https://www.hindawi.com/journals/cin/2016/1712630/ <br>\n",
        "\n",
        "La mejora que se presenta consiste en añadir al algoritmo una estructura de\n",
        "listas para controlar la disminución de la temperatura, de manera que se simplifique la configuración de parámetros. <br>\n",
        "\n",
        "También, para generar nuevas soluciones vecinas, se establecen 3 nuevos operadores: \n",
        "* El operador de inversión.\n",
        "* El operador de inserción.\n",
        "* El operador de intercambio. \n",
        "\n",
        "En este caso, se va a implementar únicamente el operador de inversión. La diferencia entre este operador y el usado anteriormente, es que en lugar de intercambiar únicamente los nodos aleatorios i y j, se van a invertir todas las ciudades entre las posiciones i y j."
      ],
      "metadata": {
        "id": "Wm1z306TVdPU"
      }
    },
    {
      "cell_type": "code",
      "source": [
        "def genera_vecina_aleatoria_new(solucion):\n",
        "  #Definición: Generador de soluciones vecinas\n",
        "  #Parámetros:\n",
        "  # - solucion es la trayectoria.\n",
        "  #Return: Solución vecina\n",
        "\n",
        "  #Se eligen dos nodos aleatoriamente\n",
        "  i,j = sorted(random.sample( range(1,len(solucion)) , 2))\n",
        "  #Se invierten los caminos que unen i y j\n",
        "  solucion_inv = list(reversed(solucion[i+1:j].copy()))\n",
        "  # Devuelve una nueva solución pero intercambiando los caminos entre i y j, por su inversa\n",
        "  return solucion[:i+1] + solucion_inv + solucion[j:]\n",
        "\n",
        "def recocido_simulado_new(problema, T, nodos):\n",
        "  #Definición: Funcion de aplica simulated annealing para calcular la trayectoria\n",
        "  #Parámetros:\n",
        "  # - T es la temperatura\n",
        "  # - problema es la matriz de distancias.\n",
        "  # - nodos conjunto de elementos.\n",
        "  #Return: Mejor trayectoria\n",
        " \n",
        " solucion_referencia = crear_solucion(nodos)\n",
        " distancia_referencia = distancia_total(solucion_referencia, problema)\n",
        " mejor_solucion = []\n",
        " mejor_distancia = 10e100\n",
        " N = 0\n",
        "\n",
        " while T > .0001:\n",
        "  N += 1\n",
        "  #Genera una solución vecina:\n",
        "  vecina = genera_vecina_aleatoria_new(solucion_referencia)\n",
        "\n",
        "  #Calcula su valor(distancia):\n",
        "  distancia_vecina = distancia_total(vecina, problema)\n",
        "\n",
        "  #Si es la mejor solución de todas se guarda:\n",
        "  if distancia_vecina < mejor_distancia:\n",
        "    mejor_solucion = vecina\n",
        "    mejor_distancia = distancia_vecina\n",
        "\n",
        "  #Si la nueva vecina es mejor se cambia \n",
        "  #Si es peor se cambia según una probabilidad que depende de T y delta(distancia_referencia - distancia_vecina)\n",
        "  if distancia_vecina < distancia_referencia or probabilidad(T, abs(distancia_referencia - distancia_vecina)):\n",
        "    solucion_referencia = vecina\n",
        "    distancia_referencia = distancia_vecina\n",
        "\n",
        "  #Bajamos la temperatura\n",
        "  T = bajar_temperatura(T)\n",
        "\n",
        " print(\"La mejor solución encontrada es\", mejor_solucion)\n",
        " print(\"Distancia total de\", mejor_distancia)\n",
        " return mejor_solucion"
      ],
      "metadata": {
        "id": "wWVxeRzSu4uT"
      },
      "execution_count": null,
      "outputs": []
    },
    {
      "cell_type": "markdown",
      "source": [
        "La solución queda de la siguiente forma:"
      ],
      "metadata": {
        "id": "tOT6miSpVxtc"
      }
    },
    {
      "cell_type": "code",
      "source": [
        "sol = recocido_simulado_new(problema, 100000000, nodos)"
      ],
      "metadata": {
        "colab": {
          "base_uri": "https://localhost:8080/"
        },
        "id": "lz6i0n5Fw4L_",
        "outputId": "2bdfd859-b8e7-40e5-f7d6-efb7552dc5ee"
      },
      "execution_count": null,
      "outputs": [
        {
          "output_type": "stream",
          "name": "stdout",
          "text": [
            "La mejor solución encontrada es [0, 23, 41, 10, 25, 11, 12, 18, 4, 3, 1, 7, 5, 26, 6, 13, 19, 14, 37, 15, 16, 36, 35, 31, 17, 32, 34, 20, 33, 38, 22, 30, 28, 27, 2, 29, 8, 9, 39, 21, 24, 40]\n",
            "Distancia total de 1782\n"
          ]
        }
      ]
    }
  ]
}