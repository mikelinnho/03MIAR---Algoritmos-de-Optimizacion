{
  "cells": [
    {
      "cell_type": "markdown",
      "metadata": {
        "id": "GG2D6vLdYwwy"
      },
      "source": [
        "#**AG1- Actividad Guiada 1**\n",
        "\n",
        "Nombre: Mikel Pérez Frutos <br>\n",
        "Link: https://colab.research.google.com/drive/1Z4cfVkkV1a4XyneW0QS99iTfdV-YN9FW?usp=sharing <br>\n",
        "Github: https://github.com/mikelinnho/03MIAR---Algoritmos-de-Optimizacion"
      ]
    },
    {
      "cell_type": "markdown",
      "metadata": {
        "id": "pfuc1TwmGwX0"
      },
      "source": [
        "## **Divide y vencerás**\n",
        "\n",
        "Problema: Torres de Hanoy <br>\n",
        "Para jugar online: http://www.uterra.com/juegos/torre_hanoi.php"
      ]
    },
    {
      "cell_type": "code",
      "execution_count": null,
      "metadata": {
        "id": "rTiqLuX2ZKuL"
      },
      "outputs": [],
      "source": [
        "###########################################\n",
        "#   Torres de Hanoi - Divide y venceras   #\n",
        "###########################################\n",
        "def Torres_Hanoi(numeroFichas, torreInicial, torreFinal):\n",
        "  #Parámetros:\n",
        "  # - N: Número de fichas\n",
        "  # - desde: Torre inicial\n",
        "  # - Hasta: Torre final\n",
        "\n",
        "  if numeroFichas == 1:\n",
        "    print(\"Lleva la ficha desde \" + str(torreInicial) + \" hasta \" + str(torreFinal))\n",
        "  else:\n",
        "    pivote = 6 - torreInicial - torreFinal #Calcular el pivote a utilizar para llevar las fichas desde \"torreInicial\" hasta \"torreFinal\"\n",
        "    Torres_Hanoi(numeroFichas - 1, torreInicial, pivote) #Llevar 2 fichas desde \"torreInicial\" hasta \"pivote\"\n",
        "    print(\"Lleva la ficha desde \" + str(torreInicial) + \" hasta \" + str(torreFinal))\n",
        "    Torres_Hanoi(numeroFichas - 1, pivote,  torreFinal) #Llevar 2 fichas desde \"pivote\" hasta \"torreFinal\""
      ]
    },
    {
      "cell_type": "code",
      "execution_count": null,
      "metadata": {
        "colab": {
          "base_uri": "https://localhost:8080/"
        },
        "id": "_59DrHqGLwt1",
        "outputId": "71cd6da9-4473-40a3-8238-5679e5580980"
      },
      "outputs": [
        {
          "name": "stdout",
          "output_type": "stream",
          "text": [
            "Lleva la ficha desde 1 hasta 3\n",
            "Lleva la ficha desde 1 hasta 2\n",
            "Lleva la ficha desde 3 hasta 2\n",
            "Lleva la ficha desde 1 hasta 3\n",
            "Lleva la ficha desde 2 hasta 1\n",
            "Lleva la ficha desde 2 hasta 3\n",
            "Lleva la ficha desde 1 hasta 3\n"
          ]
        }
      ],
      "source": [
        "Torres_Hanoi(3, 1, 3)"
      ]
    },
    {
      "cell_type": "markdown",
      "metadata": {
        "id": "694rlqlzKUa_"
      },
      "source": [
        "## **Técnica voraz**\n",
        "Problema: Cambio de monedas <br>"
      ]
    },
    {
      "cell_type": "code",
      "execution_count": null,
      "metadata": {
        "id": "YwBudj2hYoMR"
      },
      "outputs": [],
      "source": [
        "###########################################\n",
        "#    Cambio de monedas - Técnica voraz    #\n",
        "###########################################\n",
        "def cambio_monedas_no_sorted(cantidad, sistemaMonetario):\n",
        "  #Parámetros:\n",
        "  # - Cantidad: Cantidad a calcular en función del sistema monetario\n",
        "  # - sistemaMonetario: Sistema de monedas a utilizar para dar el cambio\n",
        "\n",
        "  solucion = [0 for i in range(len(sistemaMonetario))]\n",
        "  valorAcumulado = 0\n",
        "\n",
        "  for i, valor in enumerate(sistemaMonetario):\n",
        "    monedas = (cantidad - valorAcumulado) // valor\n",
        "    solucion[i] = monedas\n",
        "    valorAcumulado = valorAcumulado + monedas * valor\n",
        "    if cantidad == valorAcumulado: return solucion\n",
        "\n",
        "  print(\"No es posible encontrar solucion\") "
      ]
    },
    {
      "cell_type": "code",
      "execution_count": null,
      "metadata": {
        "colab": {
          "base_uri": "https://localhost:8080/"
        },
        "id": "40xJdpDWL-CN",
        "outputId": "858c2133-b1c7-482a-85e8-1c4825f9bcca"
      },
      "outputs": [
        {
          "data": {
            "text/plain": [
              "[1, 0, 1, 1]"
            ]
          },
          "execution_count": 4,
          "metadata": {},
          "output_type": "execute_result"
        }
      ],
      "source": [
        "SISTEMA = [12, 5, 2 , 1]\n",
        "cambio_monedas_no_sorted(15, SISTEMA)"
      ]
    },
    {
      "cell_type": "code",
      "execution_count": null,
      "metadata": {
        "id": "R4bF2wMsR3bU"
      },
      "outputs": [],
      "source": [
        "###########################################\n",
        "#    Cambio de monedas - Técnica voraz    #\n",
        "###########################################\n",
        "def cambio_monedas_sorted(cantidad, sistemaMonetario):\n",
        "  #Parámetros:\n",
        "  # - Cantidad: Cantidad a calcular en función del sistema monetario\n",
        "  # - sistemaMonetario: Sistema de monedas a utilizar para dar el cambio\n",
        "\n",
        "  solucion = [0 for i in range(len(sistemaMonetario))]\n",
        "  valorAcumulado = 0\n",
        "  sistemaMonetario.sort(reverse = True) #Con este cambio nos aseguramos de que la lista siempre venga ordenada de mayor a menor  \n",
        "\n",
        "  for i, valor in enumerate(sistemaMonetario):\n",
        "    monedas = (cantidad - valorAcumulado) // valor\n",
        "    solucion[i] = monedas\n",
        "    valorAcumulado = valorAcumulado + monedas * valor\n",
        "    if cantidad == valorAcumulado: return solucion\n",
        "\n",
        "  print(\"No es posible encontrar solucion\") "
      ]
    },
    {
      "cell_type": "code",
      "execution_count": null,
      "metadata": {
        "colab": {
          "base_uri": "https://localhost:8080/"
        },
        "id": "ZwYp_UznR-Or",
        "outputId": "e9eeee8b-c9f4-4dda-b460-cfb232893006"
      },
      "outputs": [
        {
          "data": {
            "text/plain": [
              "[1, 0, 1, 1]"
            ]
          },
          "execution_count": 6,
          "metadata": {},
          "output_type": "execute_result"
        }
      ],
      "source": [
        "SISTEMA = [12, 5, 2 , 1]\n",
        "cambio_monedas_sorted(15, SISTEMA)"
      ]
    },
    {
      "cell_type": "code",
      "execution_count": null,
      "metadata": {
        "id": "RZ68Xe73NIZ8"
      },
      "outputs": [],
      "source": [
        "###########################################\n",
        "#    Cambio de monedas - Técnica voraz    #\n",
        "###########################################\n",
        "def cambio_monedas_no_sorted_2(cantidad, sistemaMonetario):\n",
        "  #Parámetros:\n",
        "  # - Cantidad: Cantidad a calcular en función del sistema monetario\n",
        "  # - sistemaMonetario: Sistema de monedas a utilizar para dar el cambio\n",
        "\n",
        "  solucion = {}\n",
        "\n",
        "  for i, v in enumerate(sistemaMonetario):\n",
        "    monedas = cantidad // v\n",
        "    solucion[v] = monedas\n",
        "    cantidad -= monedas * v\n",
        "    if cantidad == 0: return solucion"
      ]
    },
    {
      "cell_type": "code",
      "execution_count": null,
      "metadata": {
        "colab": {
          "base_uri": "https://localhost:8080/"
        },
        "id": "-BYQXQ6yOx3g",
        "outputId": "d0978923-6b64-414c-8c5c-c3f64db9bd2e"
      },
      "outputs": [
        {
          "data": {
            "text/plain": [
              "{12: 1, 5: 0, 2: 1, 1: 1}"
            ]
          },
          "execution_count": 8,
          "metadata": {},
          "output_type": "execute_result"
        }
      ],
      "source": [
        "SISTEMA = [12, 5, 2, 1]\n",
        "cambio_monedas_no_sorted_2(15, SISTEMA)"
      ]
    },
    {
      "cell_type": "code",
      "execution_count": null,
      "metadata": {
        "id": "uTqyWOfyPFrR"
      },
      "outputs": [],
      "source": [
        "###########################################\n",
        "#    Cambio de monedas - Técnica voraz    #\n",
        "###########################################\n",
        "def cambio_monedas_sorted_2(cantidad, sistemaMonetario):\n",
        "  #Parámetros:\n",
        "  # - Cantidad: Cantidad a calcular en función del sistema monetario\n",
        "  # - sistemaMonetario: Sistema de monedas a utilizar para dar el cambio\n",
        "\n",
        "  solucion = {}\n",
        "  sistemaMonetario.sort(reverse = True) #Con este cambio nos aseguramos de que la lista siempre venga ordenada de mayor a menor  \n",
        "\n",
        "  for i, v in enumerate(sistemaMonetario):\n",
        "    monedas = cantidad // v\n",
        "    solucion[v] = monedas\n",
        "    cantidad -= monedas * v\n",
        "    if cantidad == 0: return solucion"
      ]
    },
    {
      "cell_type": "code",
      "execution_count": null,
      "metadata": {
        "colab": {
          "base_uri": "https://localhost:8080/"
        },
        "id": "qyr7XncHPeZP",
        "outputId": "9a62a432-0079-4213-942f-46b4b5ba1700"
      },
      "outputs": [
        {
          "data": {
            "text/plain": [
              "{12: 1, 5: 0, 2: 1, 1: 1}"
            ]
          },
          "execution_count": 10,
          "metadata": {},
          "output_type": "execute_result"
        }
      ],
      "source": [
        "SISTEMA = [2, 12, 5, 1]\n",
        "cambio_monedas_sorted_2(15, SISTEMA)"
      ]
    },
    {
      "cell_type": "markdown",
      "metadata": {
        "id": "HX_8gOJdWM1F"
      },
      "source": [
        "## **Vuelta atrás**\n",
        "Problema: Problema de las 4 reinas <br>"
      ]
    },
    {
      "cell_type": "code",
      "execution_count": null,
      "metadata": {
        "id": "H4Iwt2XRZTFr"
      },
      "outputs": [],
      "source": [
        "###########################################\n",
        "#        N Reinas - Vuelta Atrás          #\n",
        "###########################################\n",
        "\n",
        "#Comprobar si la solución es prometedora:\n",
        "def es_prometedora(solucion, etapa):\n",
        "  # Parámetros:\n",
        "  # - solucion: Solución parcial\n",
        "  # - etapa: Número de reinas colocadas en la solución parcial\n",
        "\n",
        "  for i in range(etapa + 1): #Si la solución tiene dos valores iguales no es valida => Dos reinas en la misma fila\n",
        "    if solucion.count(solucion[i]) > 1: return False\n",
        "    for j in range(i + 1, etapa + 1): #Verifica las diagonales\n",
        "      if abs(i - j) == abs(solucion[i] - solucion[j]) : return False\n",
        "  \n",
        "  return True\n",
        "\n",
        "#Traduce la solución al tablero:\n",
        "def escribe_solucion(solucion):\n",
        "  # Parámetros:\n",
        "  # - solucion: Solución parcial\n",
        "\n",
        "  n = len(solucion)\n",
        "  for x in range(n):\n",
        "    print(\"\")\n",
        "    for i in range(n):\n",
        "      if solucion[i] == x + 1: print(\" X \" , end=\"\")\n",
        "      else: print(\" - \", end=\"\")\n",
        "\n",
        "#Algoritmo para el cálculo del número de reinas:\n",
        "def reinas(N, solucion=[], etapa=0): \n",
        "  # Parámetros:\n",
        "  # - N: Tamaño del tablero\n",
        "  # - solucion: Solución parcial\n",
        "  # - etapa: Número de reinas colocadas en la solución parcial\n",
        "\n",
        "  if len(solucion) == 0: solucion = [0 for i in range(N)]\n",
        "  for i in range(1, N+1):\n",
        "    solucion[etapa] = i\n",
        "    if es_prometedora(solucion, etapa):\n",
        "      if etapa == N - 1: print(solucion)\n",
        "      else: reinas(N, solucion, etapa + 1)\n",
        "    else: None\n",
        "  \n",
        "  solucion[etapa] = 0"
      ]
    },
    {
      "cell_type": "code",
      "execution_count": null,
      "metadata": {
        "colab": {
          "base_uri": "https://localhost:8080/"
        },
        "id": "aCcjg3GWdeYi",
        "outputId": "96990fcb-9999-4e19-9558-2e2312e2e00a"
      },
      "outputs": [
        {
          "name": "stdout",
          "output_type": "stream",
          "text": [
            "[1, 5, 8, 6, 3, 7, 2, 4]\n",
            "[1, 6, 8, 3, 7, 4, 2, 5]\n",
            "[1, 7, 4, 6, 8, 2, 5, 3]\n",
            "[1, 7, 5, 8, 2, 4, 6, 3]\n",
            "[2, 4, 6, 8, 3, 1, 7, 5]\n",
            "[2, 5, 7, 1, 3, 8, 6, 4]\n",
            "[2, 5, 7, 4, 1, 8, 6, 3]\n",
            "[2, 6, 1, 7, 4, 8, 3, 5]\n",
            "[2, 6, 8, 3, 1, 4, 7, 5]\n",
            "[2, 7, 3, 6, 8, 5, 1, 4]\n",
            "[2, 7, 5, 8, 1, 4, 6, 3]\n",
            "[2, 8, 6, 1, 3, 5, 7, 4]\n",
            "[3, 1, 7, 5, 8, 2, 4, 6]\n",
            "[3, 5, 2, 8, 1, 7, 4, 6]\n",
            "[3, 5, 2, 8, 6, 4, 7, 1]\n",
            "[3, 5, 7, 1, 4, 2, 8, 6]\n",
            "[3, 5, 8, 4, 1, 7, 2, 6]\n",
            "[3, 6, 2, 5, 8, 1, 7, 4]\n",
            "[3, 6, 2, 7, 1, 4, 8, 5]\n",
            "[3, 6, 2, 7, 5, 1, 8, 4]\n",
            "[3, 6, 4, 1, 8, 5, 7, 2]\n",
            "[3, 6, 4, 2, 8, 5, 7, 1]\n",
            "[3, 6, 8, 1, 4, 7, 5, 2]\n",
            "[3, 6, 8, 1, 5, 7, 2, 4]\n",
            "[3, 6, 8, 2, 4, 1, 7, 5]\n",
            "[3, 7, 2, 8, 5, 1, 4, 6]\n",
            "[3, 7, 2, 8, 6, 4, 1, 5]\n",
            "[3, 8, 4, 7, 1, 6, 2, 5]\n",
            "[4, 1, 5, 8, 2, 7, 3, 6]\n",
            "[4, 1, 5, 8, 6, 3, 7, 2]\n",
            "[4, 2, 5, 8, 6, 1, 3, 7]\n",
            "[4, 2, 7, 3, 6, 8, 1, 5]\n",
            "[4, 2, 7, 3, 6, 8, 5, 1]\n",
            "[4, 2, 7, 5, 1, 8, 6, 3]\n",
            "[4, 2, 8, 5, 7, 1, 3, 6]\n",
            "[4, 2, 8, 6, 1, 3, 5, 7]\n",
            "[4, 6, 1, 5, 2, 8, 3, 7]\n",
            "[4, 6, 8, 2, 7, 1, 3, 5]\n",
            "[4, 6, 8, 3, 1, 7, 5, 2]\n",
            "[4, 7, 1, 8, 5, 2, 6, 3]\n",
            "[4, 7, 3, 8, 2, 5, 1, 6]\n",
            "[4, 7, 5, 2, 6, 1, 3, 8]\n",
            "[4, 7, 5, 3, 1, 6, 8, 2]\n",
            "[4, 8, 1, 3, 6, 2, 7, 5]\n",
            "[4, 8, 1, 5, 7, 2, 6, 3]\n",
            "[4, 8, 5, 3, 1, 7, 2, 6]\n",
            "[5, 1, 4, 6, 8, 2, 7, 3]\n",
            "[5, 1, 8, 4, 2, 7, 3, 6]\n",
            "[5, 1, 8, 6, 3, 7, 2, 4]\n",
            "[5, 2, 4, 6, 8, 3, 1, 7]\n",
            "[5, 2, 4, 7, 3, 8, 6, 1]\n",
            "[5, 2, 6, 1, 7, 4, 8, 3]\n",
            "[5, 2, 8, 1, 4, 7, 3, 6]\n",
            "[5, 3, 1, 6, 8, 2, 4, 7]\n",
            "[5, 3, 1, 7, 2, 8, 6, 4]\n",
            "[5, 3, 8, 4, 7, 1, 6, 2]\n",
            "[5, 7, 1, 3, 8, 6, 4, 2]\n",
            "[5, 7, 1, 4, 2, 8, 6, 3]\n",
            "[5, 7, 2, 4, 8, 1, 3, 6]\n",
            "[5, 7, 2, 6, 3, 1, 4, 8]\n",
            "[5, 7, 2, 6, 3, 1, 8, 4]\n",
            "[5, 7, 4, 1, 3, 8, 6, 2]\n",
            "[5, 8, 4, 1, 3, 6, 2, 7]\n",
            "[5, 8, 4, 1, 7, 2, 6, 3]\n",
            "[6, 1, 5, 2, 8, 3, 7, 4]\n",
            "[6, 2, 7, 1, 3, 5, 8, 4]\n",
            "[6, 2, 7, 1, 4, 8, 5, 3]\n",
            "[6, 3, 1, 7, 5, 8, 2, 4]\n",
            "[6, 3, 1, 8, 4, 2, 7, 5]\n",
            "[6, 3, 1, 8, 5, 2, 4, 7]\n",
            "[6, 3, 5, 7, 1, 4, 2, 8]\n",
            "[6, 3, 5, 8, 1, 4, 2, 7]\n",
            "[6, 3, 7, 2, 4, 8, 1, 5]\n",
            "[6, 3, 7, 2, 8, 5, 1, 4]\n",
            "[6, 3, 7, 4, 1, 8, 2, 5]\n",
            "[6, 4, 1, 5, 8, 2, 7, 3]\n",
            "[6, 4, 2, 8, 5, 7, 1, 3]\n",
            "[6, 4, 7, 1, 3, 5, 2, 8]\n",
            "[6, 4, 7, 1, 8, 2, 5, 3]\n",
            "[6, 8, 2, 4, 1, 7, 5, 3]\n",
            "[7, 1, 3, 8, 6, 4, 2, 5]\n",
            "[7, 2, 4, 1, 8, 5, 3, 6]\n",
            "[7, 2, 6, 3, 1, 4, 8, 5]\n",
            "[7, 3, 1, 6, 8, 5, 2, 4]\n",
            "[7, 3, 8, 2, 5, 1, 6, 4]\n",
            "[7, 4, 2, 5, 8, 1, 3, 6]\n",
            "[7, 4, 2, 8, 6, 1, 3, 5]\n",
            "[7, 5, 3, 1, 6, 8, 2, 4]\n",
            "[8, 2, 4, 1, 7, 5, 3, 6]\n",
            "[8, 2, 5, 3, 1, 7, 4, 6]\n",
            "[8, 3, 1, 6, 2, 5, 7, 4]\n",
            "[8, 4, 1, 3, 6, 2, 7, 5]\n"
          ]
        }
      ],
      "source": [
        "reinas(8,solucion=[],etapa=0)"
      ]
    },
    {
      "cell_type": "code",
      "execution_count": null,
      "metadata": {
        "colab": {
          "base_uri": "https://localhost:8080/"
        },
        "id": "eTZclKH9QV0R",
        "outputId": "e9f19234-a396-43f2-80b7-9f627ffa8805"
      },
      "outputs": [
        {
          "name": "stdout",
          "output_type": "stream",
          "text": [
            "\n",
            " X  -  -  -  -  -  -  - \n",
            " -  -  -  -  -  -  X  - \n",
            " -  -  -  -  X  -  -  - \n",
            " -  -  -  -  -  -  -  X \n",
            " -  X  -  -  -  -  -  - \n",
            " -  -  -  X  -  -  -  - \n",
            " -  -  -  -  -  X  -  - \n",
            " -  -  X  -  -  -  -  - "
          ]
        }
      ],
      "source": [
        "escribe_solucion([1, 5, 8, 6, 3, 7, 2, 4])"
      ]
    },
    {
      "cell_type": "markdown",
      "metadata": {
        "id": "K9uR5VEMeLfa"
      },
      "source": [
        "## **Programación dinámica**\n",
        "Problema: Viaje por el rio"
      ]
    },
    {
      "cell_type": "code",
      "execution_count": null,
      "metadata": {
        "id": "TocxR55dQWq5"
      },
      "outputs": [],
      "source": [
        "############################################\n",
        "# Viaje por el rio - Programación dinámica #\n",
        "############################################\n",
        "\n",
        "#Calculo de la matriz de PRECIOS y RUTAS:\n",
        "def Precios(tarifas):\n",
        "  # Parámetros:\n",
        "  # - tarifas: Matriz con las tarifas por nodo, si los nodos no están conectados 999 o inf\n",
        "\n",
        "  N = len(tarifas[0]) #Total de Nodos\n",
        "  precios = [[9999]*N for i in [9999]*N] #Inicialización de la tabla de precios\n",
        "  ruta = [[\"\"]*N for i in [\"\"]*N] #Inicialización de la tabla de rutas\n",
        "  \n",
        "  for i in range(0, N - 1):\n",
        "    ruta[i][i] = i #Para ir de i a i se \"pasa por i\"\n",
        "    precios[i][i] = 0 #Para ir de i a i se se paga 0\n",
        "\n",
        "    for j in range(i + 1, N):\n",
        "      minimo = tarifas[i][j]\n",
        "      ruta[i][j] = i         \n",
        "      \n",
        "      for k in range(i, j):\n",
        "        if precios[i][k] + tarifas[k][j] < minimo:\n",
        "            minimo = min(minimo, precios[i][k] + tarifas[k][j] )\n",
        "            ruta[i][j] = k #Anota que para ir de i a j hay que pasar por k\n",
        "        \n",
        "        precios[i][j] = minimo\n",
        "        \n",
        "  return precios, ruta\n",
        "\n",
        "#Determinar la ruta con recursividad:\n",
        "def calcular_ruta(RUTA, desde, hasta):\n",
        "  if desde == hasta: return \"\" \n",
        "  else: return str(calcular_ruta( RUTA, desde, RUTA[desde][hasta])) + ',' + str(RUTA[desde][hasta]) "
      ]
    },
    {
      "cell_type": "code",
      "execution_count": null,
      "metadata": {
        "colab": {
          "base_uri": "https://localhost:8080/"
        },
        "id": "Vj_rlgjohTgc",
        "outputId": "74cab2e7-9240-4661-fd2d-0146d4f0d92f"
      },
      "outputs": [
        {
          "name": "stdout",
          "output_type": "stream",
          "text": [
            "PRECIOS\n",
            "[0, 5, 4, 3, 8, 8, 11]\n",
            "[9999, 0, 999, 2, 3, 8, 7]\n",
            "[9999, 9999, 0, 1, 6, 4, 7]\n",
            "[9999, 9999, 9999, 0, 5, 6, 9]\n",
            "[9999, 9999, 9999, 9999, 0, 999, 4]\n",
            "[9999, 9999, 9999, 9999, 9999, 0, 3]\n",
            "[9999, 9999, 9999, 9999, 9999, 9999, 9999]\n",
            "\n",
            "RUTA\n",
            "[0, 0, 0, 0, 1, 2, 5]\n",
            "['', 1, 1, 1, 1, 3, 4]\n",
            "['', '', 2, 2, 3, 2, 5]\n",
            "['', '', '', 3, 3, 3, 3]\n",
            "['', '', '', '', 4, 4, 4]\n",
            "['', '', '', '', '', 5, 5]\n",
            "['', '', '', '', '', '', '']\n",
            "\n",
            "La ruta es:  ,0,2,5\n"
          ]
        }
      ],
      "source": [
        "TARIFAS = [\n",
        "[0,5,4,3,999,999,999],\n",
        "[999,0,999,2,3,999,11],\n",
        "[999,999, 0,1,999,4,10],\n",
        "[999,999,999, 0,5,6,9],\n",
        "[999,999, 999,999,0,999,4],\n",
        "[999,999, 999,999,999,0,3],\n",
        "[999,999,999,999,999,999,0]\n",
        "]\n",
        "\n",
        "PRECIOS, RUTA = Precios(TARIFAS)  \n",
        "print(\"PRECIOS\")\n",
        "for i in range(len(TARIFAS)): print(PRECIOS[i])\n",
        "print(\"\\nRUTA\")  \n",
        "for i in range(len(TARIFAS)): print(RUTA[i])  \n",
        "print(\"\\nLa ruta es: \", calcular_ruta(RUTA, 0,6))  "
      ]
    },
    {
      "cell_type": "markdown",
      "metadata": {
        "id": "rWZ5XTXOiuYZ"
      },
      "source": [
        "## **Practica individual**\n",
        "Problema: Encontrar los dos puntos más cercanos"
      ]
    },
    {
      "cell_type": "code",
      "execution_count": null,
      "metadata": {
        "id": "fIYt_jAIdGXS"
      },
      "outputs": [],
      "source": [
        "import math\n",
        "\n",
        "def distancia_2D(A, B):\n",
        "    return math.sqrt((B[0] - A[0])**2 + (B[1] - A[1])**2)\n",
        "\n",
        "def distancia_3D(A, B):\n",
        "    return math.sqrt((B[0] - A[0])**2 + (B[1] - A[1])**2 + (B[2] - A[2])**2)\n"
      ]
    },
    {
      "cell_type": "markdown",
      "metadata": {
        "id": "Ok_H0k_cIxi-"
      },
      "source": [
        "### Fuerza bruta:"
      ]
    },
    {
      "cell_type": "markdown",
      "source": [
        "Para una dimensión (1D):"
      ],
      "metadata": {
        "id": "LQO9a9_NgG3z"
      }
    },
    {
      "cell_type": "code",
      "execution_count": null,
      "metadata": {
        "id": "pLcTrr4-wb3Y"
      },
      "outputs": [],
      "source": [
        "def puntos_cercanos_1D_FB(lista):\n",
        "  lista.sort() #Ordenar la lista de menor a mayor\n",
        "  minimaDistancia = float(\"inf\")\n",
        "  puntoA, puntoB = 0, 0\n",
        "\n",
        "  for indice in range(len(lista)):\n",
        "    for valor in lista[indice+1:]:\n",
        "      distancia = abs(lista[indice] - valor)\n",
        "      if distancia < minimaDistancia:\n",
        "        minimaDistancia = distancia\n",
        "        puntoA = lista[indice]\n",
        "        puntoB = valor\n",
        "\n",
        "  return puntoA, puntoB"
      ]
    },
    {
      "cell_type": "markdown",
      "source": [
        "Para dos dimensiones (2D):"
      ],
      "metadata": {
        "id": "13KE9KqUgIIq"
      }
    },
    {
      "cell_type": "code",
      "source": [
        "def puntos_cercanos_2D_FB(lista):\n",
        "  lista.sort() #Ordenar la lista de menor a mayor\n",
        "  minimaDistancia = float(\"inf\")\n",
        "  puntoA, puntoB = 0, 0\n",
        "\n",
        "  for indice in range(len(lista)):\n",
        "    for valor in lista[indice+1:]:\n",
        "      distancia = distancia_2D(lista[indice], valor)\n",
        "      if distancia < minimaDistancia:\n",
        "        minimaDistancia = distancia\n",
        "        puntoA = lista[indice]\n",
        "        puntoB = valor\n",
        "\n",
        "  return puntoA, puntoB"
      ],
      "metadata": {
        "id": "-Si6jBnefe3R"
      },
      "execution_count": null,
      "outputs": []
    },
    {
      "cell_type": "markdown",
      "source": [
        "Para tres dimensiones (3D):"
      ],
      "metadata": {
        "id": "BNdCJe0_gLrh"
      }
    },
    {
      "cell_type": "code",
      "source": [
        "def puntos_cercanos_3D_FB(lista):\n",
        "  lista.sort() #Ordenar la lista de menor a mayor\n",
        "  minimaDistancia = float(\"inf\")\n",
        "  puntoA, puntoB = 0, 0\n",
        "\n",
        "  for indice in range(len(lista)):\n",
        "    for valor in lista[indice+1:]:\n",
        "      distancia = distancia_3D(lista[indice], valor)\n",
        "      if distancia < minimaDistancia:\n",
        "        minimaDistancia = distancia\n",
        "        puntoA = lista[indice]\n",
        "        puntoB = valor\n",
        "\n",
        "  return puntoA, puntoB"
      ],
      "metadata": {
        "id": "syfmuCdZfibm"
      },
      "execution_count": null,
      "outputs": []
    },
    {
      "cell_type": "markdown",
      "metadata": {
        "id": "MzB52lmgHtY4"
      },
      "source": [
        "La complejidad de este algoritmo es de O(n²) debido a los dos bucles for que hay."
      ]
    },
    {
      "cell_type": "markdown",
      "metadata": {
        "id": "cmCnuWm7O3P0"
      },
      "source": [
        "### Divide y vencerás:"
      ]
    },
    {
      "cell_type": "markdown",
      "source": [
        "Para una dimensión (1D):"
      ],
      "metadata": {
        "id": "_tHs2qVof5Fx"
      }
    },
    {
      "cell_type": "code",
      "execution_count": null,
      "metadata": {
        "id": "q7QRSTXbxwHN"
      },
      "outputs": [],
      "source": [
        "def puntos_cercanos_1D_DV(lista):\n",
        "   lista.sort() #Ordenar la lista de menor a mayor\n",
        "   numeroElementos = len(lista)\n",
        "   distanciaMinima = float(\"inf\")\n",
        "   puntoA, puntoB = 0, 0\n",
        "\n",
        "   if numeroElementos < 2: \n",
        "      return 0, float(\"inf\")\n",
        "   elif numeroElementos == 2: \n",
        "      return lista[0], lista[1]\n",
        "   else:\n",
        "      mid = numeroElementos // 2\n",
        "      puntoA1, puntoB1 = puntos_cercanos_1D_DV(lista[:mid])\n",
        "      distancia = abs(puntoA1 - puntoB1)\n",
        "\n",
        "      if distanciaMinima > distancia: \n",
        "         distanciaMinima = distancia\n",
        "         puntoA, puntoB = puntoA1, puntoB1\n",
        "         \n",
        "      puntoA2, puntoB2 = puntos_cercanos_1D_DV(lista[mid:])\n",
        "      distancia = abs(puntoA2 - puntoB2)\n",
        "\n",
        "      if distanciaMinima > distancia: \n",
        "         distanciaMinima = distancia\n",
        "         puntoA, puntoB = puntoA2, puntoB2\n",
        "\n",
        "      puntoA3, puntoB3 = lista[mid -1], lista[mid]\n",
        "      distancia = abs(puntoA3 - puntoB3)\n",
        "\n",
        "      if distanciaMinima > distancia: \n",
        "         distanciaMinima = distancia\n",
        "         puntoA, puntoB = puntoA3, puntoB3\n",
        "\n",
        "      return puntoA, puntoB"
      ]
    },
    {
      "cell_type": "markdown",
      "source": [
        "Para dos dimensiones (2D):"
      ],
      "metadata": {
        "id": "38O_98Sgf-Hs"
      }
    },
    {
      "cell_type": "code",
      "source": [
        "def puntos_cercanos_2D_DV(lista):\n",
        "   lista.sort() #Ordenar la lista de menor a mayor\n",
        "   numeroElementos = len(lista)\n",
        "   distanciaMinima = float(\"inf\")\n",
        "   puntoA, puntoB = (0, 0), (0, 0)\n",
        "\n",
        "   if numeroElementos < 2: \n",
        "      return (0, 0), (float(\"inf\"), float(\"inf\"))\n",
        "   elif numeroElementos == 2: \n",
        "      return lista[0], lista[1]\n",
        "   else:\n",
        "      mid = numeroElementos // 2\n",
        "      puntoA1, puntoB1 = puntos_cercanos_2D_DV(lista[:mid])\n",
        "      distanciaL = distancia_2D(puntoA1, puntoB1)\n",
        "\n",
        "      if distanciaMinima > distanciaL: \n",
        "         distanciaMinima = distanciaL\n",
        "         puntoA, puntoB = puntoA1, puntoB1\n",
        "         \n",
        "      puntoA2, puntoB2 = puntos_cercanos_2D_DV(lista[mid:])\n",
        "      distanciaR = distancia_2D(puntoA2, puntoB2)\n",
        "\n",
        "      if distanciaMinima > distanciaR: \n",
        "         distanciaMinima = distanciaR\n",
        "         puntoA, puntoB = puntoA2, puntoB2\n",
        "\n",
        "      strip = []\n",
        "      for indice in range(numeroElementos):\n",
        "         if abs(lista[indice][0] - lista[mid][0]) < distanciaMinima:\n",
        "            strip.append(lista[indice])\n",
        "\n",
        "      strip = sorted(strip, key=lambda point: point[1])\n",
        "\n",
        "      for indice in range(len(strip)):\n",
        "         for subindice in range(indice + 1, len(strip)):\n",
        "            if (strip[subindice][1] - strip[indice][1]) >= distanciaMinima: \n",
        "               break\n",
        "            distancia = distancia_2D(strip[indice], strip[subindice])\n",
        "            if distancia < distanciaMinima: \n",
        "               distanciaMinima = distancia\n",
        "               puntoA, puntoB = strip[indice], strip[subindice]\n",
        "\n",
        "      return puntoA, puntoB"
      ],
      "metadata": {
        "id": "ksRvjvMVfl0w"
      },
      "execution_count": null,
      "outputs": []
    },
    {
      "cell_type": "code",
      "source": [
        "import math\n",
        "import numpy as np\n",
        "\n",
        "def puntos_cercanos_2D_DV_strip(P):\n",
        "    if len(P) <= 3:\n",
        "        return min([(distancia_2D(P[i], P[j]), P[i], P[j]) for i in range(len(P)) for j in range(i+1, len(P))], key=lambda x: x[0])[1:]\n",
        "    mid = len(P)//2\n",
        "    L = P[:mid]\n",
        "    R = P[mid:]\n",
        "    dL = puntos_cercanos_2D_DV_strip(L)\n",
        "    dR = puntos_cercanos_2D_DV_strip(R)\n",
        "    d = min(dL, dR, key=lambda x: distancia_2D(x[0], x[1]))\n",
        "    strip = [p for p in P if abs(p[0] - P[mid][0]) < distancia_2D(d[0], d[1])]\n",
        "    strip.sort(key=lambda x: x[1])\n",
        "    m = len(strip)\n",
        "    for i in range(m):\n",
        "        for j in range(i+1, min(i + 7, m)):\n",
        "            if strip[j][1] - strip[i][1] >= distancia_2D(d[0], d[1]):\n",
        "                break\n",
        "            d = min(d, (strip[i], strip[j]), key=lambda x: distancia_2D(x[0], x[1]))\n",
        "    return d"
      ],
      "metadata": {
        "id": "4nnv-lXjPA76"
      },
      "execution_count": null,
      "outputs": []
    },
    {
      "cell_type": "markdown",
      "source": [
        "Para tres dimensiones (3D):"
      ],
      "metadata": {
        "id": "MS8q5xd9gBkZ"
      }
    },
    {
      "cell_type": "code",
      "source": [
        "def puntos_cercanos_3D_DV(lista):\n",
        "    lista.sort() #Ordenar la lista de menor a mayor\n",
        "    numeroElementos = len(lista)\n",
        "    distanciaMinima = float(\"inf\")\n",
        "    puntoA, puntoB = (0, 0), (0, 0)\n",
        "\n",
        "    if numeroElementos < 2: \n",
        "        return (0, 0, 0), (float(\"inf\"), float(\"inf\"), float(\"inf\"))\n",
        "    elif numeroElementos == 2: \n",
        "        return lista[0], lista[1]\n",
        "    else:\n",
        "        mid = numeroElementos // 2\n",
        "        puntoA1, puntoB1 = puntos_cercanos_3D_DV(lista[:mid])\n",
        "        distanciaL = distancia_3D(puntoA1, puntoB1)\n",
        "        \n",
        "        if distanciaMinima > distanciaL: \n",
        "            distanciaMinima = distanciaL\n",
        "            puntoA, puntoB = puntoA1, puntoB1\n",
        "        \n",
        "        puntoA2, puntoB2 = puntos_cercanos_3D_DV(lista[mid:])\n",
        "        distanciaR = distancia_3D(puntoA2, puntoB2)\n",
        "        \n",
        "        if distanciaMinima > distanciaR: \n",
        "            distanciaMinima = distanciaR\n",
        "            puntoA, puntoB = puntoA2, puntoB2\n",
        "        \n",
        "        midElementsY = []\n",
        "        for indice in range(numeroElementos):\n",
        "            if abs(lista[indice][0] - lista[mid][0]) < distanciaMinima:\n",
        "                midElementsY.append(lista[indice])\n",
        "\n",
        "        midElementsY = sorted(midElementsY, key=lambda point: point[1])\n",
        "\n",
        "        for indice in range(len(midElementsY)):\n",
        "            for subindice in range(indice + 1, len(midElementsY)):\n",
        "                if (midElementsY[subindice][1] - midElementsY[indice][1]) >= distanciaMinima: \n",
        "                    break\n",
        "                distancia = distancia_3D(midElementsY[indice], midElementsY[subindice])\n",
        "                if distancia < distanciaMinima: \n",
        "                    distanciaMinima = distancia\n",
        "                    puntoA, puntoB = midElementsY[indice], midElementsY[subindice]\n",
        "\n",
        "        midElementsZ = []\n",
        "        mid = len(midElementsY) // 2\n",
        "        for indice in range(len(midElementsY)):\n",
        "            if abs(midElementsY[indice][1] - midElementsY[mid][1]) < distanciaMinima:\n",
        "                midElementsZ.append(midElementsY[indice])\n",
        "\n",
        "        midElementsZ = sorted(midElementsZ, key=lambda point: point[2])\n",
        "\n",
        "        for indice in range(len(midElementsZ)):\n",
        "            for subindice in range(indice + 1, len(midElementsZ)):\n",
        "                if (midElementsZ[subindice][2] - midElementsY[indice][2]) >= distanciaMinima: break\n",
        "                distancia = distancia_3D(midElementsZ[indice], midElementsZ[subindice])\n",
        "                if distancia < distanciaMinima: \n",
        "                    distanciaMinima = distancia\n",
        "                    puntoA, puntoB = midElementsZ[indice], midElementsZ[subindice]\n",
        "\n",
        "        return puntoA, puntoB"
      ],
      "metadata": {
        "id": "_Gx6zmYwfp3m"
      },
      "execution_count": null,
      "outputs": []
    },
    {
      "cell_type": "code",
      "execution_count": null,
      "metadata": {
        "id": "z7l9tyVUdGXW"
      },
      "outputs": [],
      "source": [
        "import math\n",
        "import numpy as np\n",
        "\n",
        "def puntos_cercanos_3D_DV_strip(P):\n",
        "    if len(P) <= 3:\n",
        "        return min([(distancia_3D(P[i], P[j]), P[i], P[j]) for i in range(len(P)) for j in range(i+1, len(P))], key=lambda x: x[0])[1:]\n",
        "    mid = len(P)//2\n",
        "    L = P[:mid]\n",
        "    R = P[mid:]\n",
        "    dL = puntos_cercanos_3D_DV_strip(L)\n",
        "    dR = puntos_cercanos_3D_DV_strip(R)\n",
        "    d = min(dL, dR, key=lambda x: distancia_3D(x[0], x[1]))\n",
        "    strip = [p for p in P if abs(p[0] - P[mid][0]) < distancia_3D(d[0], d[1])]\n",
        "    strip.sort(key=lambda x: x[1])\n",
        "    m = len(strip)\n",
        "    for i in range(m):\n",
        "        for j in range(i+1, min(i + 7, m)):\n",
        "            if strip[j][1] - strip[i][1] >= distancia_3D(d[0], d[1]):\n",
        "                break\n",
        "            d = min(d, (strip[i], strip[j]), key=lambda x: distancia_3D(x[0], x[1]))\n",
        "    return d"
      ]
    },
    {
      "cell_type": "markdown",
      "source": [
        "Resultados:"
      ],
      "metadata": {
        "id": "_BSeRTVrgeeN"
      }
    },
    {
      "cell_type": "code",
      "execution_count": null,
      "metadata": {
        "colab": {
          "base_uri": "https://localhost:8080/"
        },
        "id": "ogsay4lTTu5J",
        "outputId": "94179bcc-094b-4226-aa28-ca6f0ffbd166"
      },
      "outputs": [
        {
          "output_type": "stream",
          "name": "stdout",
          "text": [
            "\n",
            "Divide y vencerás:\n",
            "(11, 13)\n",
            "(6278, 6382)\n",
            "\n",
            "Fuerza bruta:\n",
            "(11, 13)\n",
            "(6278, 6382)\n",
            "\n",
            "Divide y vencerás:\n",
            "((0, 1), (0, 2))\n",
            "((3, 5), (2, 5))\n",
            "((6225, 6641), (8450, 5266))\n",
            "((6225, 6641), (8450, 5266))\n",
            "\n",
            "Fuerza bruta:\n",
            "((0, 1), (0, 2))\n",
            "((6225, 6641), (8450, 5266))\n",
            "\n",
            "Divide y vencerás:\n",
            "((1, 3, 4), (2, 3, 5))\n",
            "((1, 3, 4), (2, 3, 5))\n",
            "((953, 6821, 3934), (2815, 8898, 7881))\n",
            "((953, 6821, 3934), (2815, 8898, 7881))\n",
            "\n",
            "Fuerza bruta:\n",
            "((1, 3, 4), (2, 3, 5))\n",
            "((953, 6821, 3934), (2815, 8898, 7881))\n"
          ]
        }
      ],
      "source": [
        "import random\n",
        "lista_1D = [random.randrange(1, 10000) for x in range(15)]\n",
        "lista_2D = [(random.randrange(1, 10000), random.randrange(1, 10000)) for x in range(5)]\n",
        "lista_3D = [(random.randrange(1, 10000), random.randrange(1, 10000), random.randrange(1, 10000)) for x in range(5)]\n",
        "\n",
        "print(\"\\nDivide y vencerás:\")\n",
        "print(puntos_cercanos_1D_DV([47, 30, 13, 43, 57, 73, 2, 11]))\n",
        "print(puntos_cercanos_1D_DV(lista_1D))\n",
        "\n",
        "print(\"\\nFuerza bruta:\")\n",
        "print(puntos_cercanos_1D_FB([47, 30, 13, 43, 57, 73, 2, 11]))\n",
        "print(puntos_cercanos_1D_FB(lista_1D))\n",
        "\n",
        "print(\"\\nDivide y vencerás:\")\n",
        "print(puntos_cercanos_2D_DV([(0, 1), (2, 3), (1, 4), (0, 2), (3, 5), (2, 5)]))\n",
        "print(puntos_cercanos_2D_DV_strip([(0, 1), (2, 3), (1, 4), (0, 2), (3, 5), (2, 5)]))\n",
        "print(puntos_cercanos_2D_DV(lista_2D))\n",
        "print(puntos_cercanos_2D_DV_strip(lista_2D))\n",
        "\n",
        "print(\"\\nFuerza bruta:\")\n",
        "print(puntos_cercanos_2D_FB([(0, 1), (2, 3), (1, 4), (0, 2), (3, 5), (2, 5)]))\n",
        "print(puntos_cercanos_2D_FB(lista_2D))\n",
        "\n",
        "print(\"\\nDivide y vencerás:\")\n",
        "print(puntos_cercanos_3D_DV([(0, 1, 2), (2, 3, 1), (1, 3, 4), (0, 4, 2), (3, 7, 5), (2, 3, 5)]))\n",
        "print(puntos_cercanos_3D_DV_strip([(0, 1, 2), (2, 3, 1), (1, 3, 4), (0, 4, 2), (3, 7, 5), (2, 3, 5)]))\n",
        "print(puntos_cercanos_3D_DV(lista_3D))\n",
        "print(puntos_cercanos_3D_DV_strip(lista_3D))\n",
        "\n",
        "print(\"\\nFuerza bruta:\")\n",
        "print(puntos_cercanos_3D_FB([(0, 1, 2), (2, 3, 1), (1, 3, 4), (0, 4, 2), (3, 7, 5), (2, 3, 5)]))\n",
        "print(puntos_cercanos_3D_FB(lista_3D))\n"
      ]
    },
    {
      "cell_type": "markdown",
      "metadata": {
        "id": "lzDLacA7oGfy"
      },
      "source": [
        "La complejidad de este algoritmo es de O(nlog(n)) debido a los if-else que hay. A primera vista, parece ser de complejidad O(n²), pero en realidad es O(n) debido a lo siguiente: http://people.csail.mit.edu/indyk/6.838-old/handouts/lec17.pdf\n"
      ]
    }
  ],
  "metadata": {
    "colab": {
      "provenance": []
    },
    "kernelspec": {
      "display_name": "Python 3",
      "language": "python",
      "name": "python3"
    },
    "language_info": {
      "codemirror_mode": {
        "name": "ipython",
        "version": 3
      },
      "file_extension": ".py",
      "mimetype": "text/x-python",
      "name": "python",
      "nbconvert_exporter": "python",
      "pygments_lexer": "ipython3",
      "version": "3.10.9"
    },
    "vscode": {
      "interpreter": {
        "hash": "d8a4ee24f0046a4ddd58ebd11b30d54486de2353647e5ee0d1a2aa44fd8ada2a"
      }
    }
  },
  "nbformat": 4,
  "nbformat_minor": 0
}